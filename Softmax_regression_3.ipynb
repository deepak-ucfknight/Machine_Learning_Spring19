{
  "nbformat": 4,
  "nbformat_minor": 0,
  "metadata": {
    "colab": {
      "name": "Softmax_regression_3.ipynb",
      "version": "0.3.2",
      "provenance": [],
      "collapsed_sections": [],
      "include_colab_link": true
    },
    "kernelspec": {
      "name": "python3",
      "display_name": "Python 3"
    }
  },
  "cells": [
    {
      "cell_type": "markdown",
      "metadata": {
        "id": "view-in-github",
        "colab_type": "text"
      },
      "source": [
        "<a href=\"https://colab.research.google.com/github/deepak-ucfknight/Machine_Learning_Spring19/blob/master/Softmax_regression_3.ipynb\" target=\"_parent\"><img src=\"https://colab.research.google.com/assets/colab-badge.svg\" alt=\"Open In Colab\"/></a>"
      ]
    },
    {
      "metadata": {
        "id": "etYDrdaDqHh2",
        "colab_type": "code",
        "colab": {}
      },
      "cell_type": "code",
      "source": [
        "#import headers and packages\n",
        "import keras\n",
        "from keras.datasets import mnist\n",
        "from keras import backend as K\n",
        "import numpy as np"
      ],
      "execution_count": 0,
      "outputs": []
    },
    {
      "metadata": {
        "id": "1bbM7sYJqKm4",
        "colab_type": "code",
        "colab": {}
      },
      "cell_type": "code",
      "source": [
        "#variables\n",
        "batch_size = 32\n",
        "num_classes = 10\n",
        "epochs = 12"
      ],
      "execution_count": 0,
      "outputs": []
    },
    {
      "metadata": {
        "id": "rb56lbsMqNNu",
        "colab_type": "code",
        "colab": {}
      },
      "cell_type": "code",
      "source": [
        "#Image Dimensions of MNIST\n",
        "rows = 28\n",
        "cols = 28"
      ],
      "execution_count": 0,
      "outputs": []
    },
    {
      "metadata": {
        "id": "r80nLXQrqPJN",
        "colab_type": "code",
        "colab": {}
      },
      "cell_type": "code",
      "source": [
        "#loading MNIST dataset\n",
        "(x_train, y_train), (x_test, y_test) = mnist.load_data()\n",
        "\n",
        "if K.image_data_format() == 'channels_first':\n",
        "    x_train = x_train.reshape(x_train.shape[0], 1, rows, cols)\n",
        "    x_test = x_test.reshape(x_test.shape[0], 1, rows, cols)\n",
        "    input_shape = (1, rows, cols)\n",
        "else:\n",
        "    x_train = x_train.reshape(x_train.shape[0], rows, cols, 1)\n",
        "    x_test = x_test.reshape(x_test.shape[0], rows, cols, 1)\n",
        "    input_shape = (rows, cols, 1)"
      ],
      "execution_count": 0,
      "outputs": []
    },
    {
      "metadata": {
        "id": "t4WIPkPrqQ_9",
        "colab_type": "code",
        "colab": {}
      },
      "cell_type": "code",
      "source": [
        "# Data Normalization\n",
        "\n",
        "x_train = x_train / 255;\n",
        "x_test = x_test / 255;\n"
      ],
      "execution_count": 0,
      "outputs": []
    },
    {
      "metadata": {
        "id": "tjpbWYwOqTAW",
        "colab_type": "code",
        "colab": {}
      },
      "cell_type": "code",
      "source": [
        "y_train = keras.utils.to_categorical(y_train, 10)\n",
        "y_test = keras.utils.to_categorical(y_test, 10)"
      ],
      "execution_count": 0,
      "outputs": []
    },
    {
      "metadata": {
        "id": "a0EdtmrtqUHn",
        "colab_type": "code",
        "colab": {}
      },
      "cell_type": "code",
      "source": [
        "# Reshape data\n",
        "\n",
        "x_train = x_train.reshape(x_train.shape[0], -1).T\n",
        "x_test = x_test.reshape(x_test.shape[0], -1).T\n",
        "y_train = y_train.T\n",
        "y_test = y_test.T"
      ],
      "execution_count": 0,
      "outputs": []
    },
    {
      "metadata": {
        "id": "JhvgvGO8eR_u",
        "colab_type": "text"
      },
      "cell_type": "markdown",
      "source": [
        "***Helper Functions***"
      ]
    },
    {
      "metadata": {
        "id": "-jLGnapqqWD1",
        "colab_type": "code",
        "colab": {}
      },
      "cell_type": "code",
      "source": [
        "# Function to compute Softmax\n",
        "\n",
        "def softmax(z):\n",
        "  z -= np.max(z)\n",
        "  return np.exp(z) / np.sum(np.exp(z), axis = 0)"
      ],
      "execution_count": 0,
      "outputs": []
    },
    {
      "metadata": {
        "id": "LbW73sM053Q2",
        "colab_type": "code",
        "colab": {}
      },
      "cell_type": "code",
      "source": [
        "# manual way converting train and test labels to categorical values - \n",
        "# we have used keras conversion in this assignment, \n",
        "# but professor asked us to write the logic atlest\n",
        "\n",
        "def convert_to_categorical(Y):\n",
        "  categorical_y = np.zeros(shape=(Y.shape[0],num_classes))\n",
        "  \n",
        "  print(categorical_y.shape)\n",
        "  \n",
        "  for idx,sample in enumerate(categorical_y):\n",
        "    sample[Y[idx]] = 1;\n",
        "  \n",
        "  return categorical_y\n",
        "  "
      ],
      "execution_count": 0,
      "outputs": []
    },
    {
      "metadata": {
        "id": "GAON9yIpqaj5",
        "colab_type": "code",
        "colab": {}
      },
      "cell_type": "code",
      "source": [
        "# Function to compute minibatches\n",
        "\n",
        "def mini_batches(X, Y, batchsize):\n",
        "    for start_idx in range(0, X.shape[0] - batchsize + 1, batchsize):\n",
        "        excerpt = slice(start_idx, start_idx + batchsize)\n",
        "        yield X[excerpt], Y[excerpt]"
      ],
      "execution_count": 0,
      "outputs": []
    },
    {
      "metadata": {
        "id": "s5ElOb6Dqg1h",
        "colab_type": "code",
        "colab": {}
      },
      "cell_type": "code",
      "source": [
        "# Function to compute cross entropy loss\n",
        "def cross_entropy(Y, Y_hat):\n",
        "    return -np.mean(Y * np.log(Y_hat))"
      ],
      "execution_count": 0,
      "outputs": []
    },
    {
      "metadata": {
        "id": "qgFo7bY1qhXL",
        "colab_type": "code",
        "colab": {}
      },
      "cell_type": "code",
      "source": [
        "# Function to compute sigmoid\n",
        "def sigmoid(z):\n",
        "   return 1.0/(1.0+np.exp(-z))"
      ],
      "execution_count": 0,
      "outputs": []
    },
    {
      "metadata": {
        "id": "PtImMQIiWu9V",
        "colab_type": "code",
        "colab": {}
      },
      "cell_type": "code",
      "source": [
        "# Function to compute sigmoid derivative\n",
        "def sigmoid_prime(z):\n",
        "  return sigmoid(z)*(1-sigmoid(z))"
      ],
      "execution_count": 0,
      "outputs": []
    },
    {
      "metadata": {
        "id": "2eQKxaSIevOi",
        "colab_type": "text"
      },
      "cell_type": "markdown",
      "source": [
        "`**Model Architecture**`\n",
        "\n",
        "https://github.com/deepak-ucfknight/Machine_Learning_Spring19/blob/master/network.png"
      ]
    },
    {
      "metadata": {
        "id": "OYG0qIxDqnrJ",
        "colab_type": "code",
        "colab": {}
      },
      "cell_type": "code",
      "source": [
        "# Final Model\n",
        "def model_with_hidden_layer(X_train, Y_train, X_test, Y_test, epochs,learning_rate):\n",
        "  \n",
        " \n",
        "  \n",
        "  n_x = X_train.shape[0]\n",
        "  n_h = 64 # neurons in the  hidden  layer\n",
        "  n_y = Y_train.shape[0]\n",
        "  \n",
        " \n",
        "  #initialization of weights\n",
        "  W1 = np.random.randn(n_h, n_x) * 0.01\n",
        "  b1 = np.zeros(shape=(n_h, 1))\n",
        "  W2 = np.random.randn(n_y, n_h) * 0.01\n",
        "  b2 = np.zeros(shape=(n_y, 1))\n",
        "  \n",
        "  \n",
        "  #training\n",
        "  for i in range(epochs):\n",
        "     \n",
        "     #splitting the training and test  set according to bacth sizes\n",
        "     for batch in mini_batches(X_train.T, Y_train.T, batch_size):\n",
        " \n",
        "        X, Y = batch\n",
        "  \n",
        "        X = X.T\n",
        "    \n",
        "        Y = Y.T\n",
        "  \n",
        "        m = X.shape[0]\n",
        "        \n",
        "        #forward propogation\n",
        "        Z1 = np.dot(W1, X) + b1\n",
        "        A1 = sigmoid(Z1)\n",
        "        Z2 = np.dot(W2, A1) + b2\n",
        "        A2 = softmax(Z2);\n",
        "\n",
        "        cost = cross_entropy(Y, A2)\n",
        "        \n",
        "        #back propogation - gradient descent\n",
        "        dZ2 = A2-Y\n",
        "\n",
        "        dW2 = (1/m) * np.matmul(dZ2, A1.T)\n",
        "        db2 = (1/m) * np.sum(dZ2, axis=1, keepdims=True)\n",
        "\n",
        "        dA1 = np.dot(W2.T, dZ2)\n",
        "        dZ1 = dA1 * sigmoid_prime(Z1)\n",
        "        dW1 = (1/m) * np.dot(dZ1, X.T)\n",
        "        db1 = (1/m) * np.sum(dZ1, axis=1, keepdims=True)\n",
        "\n",
        "        W2 = W2 - learning_rate * dW2\n",
        "        b2 = b2 - learning_rate * db2\n",
        "        W1 = W1 - learning_rate * dW1\n",
        "        b1 = b1 - learning_rate * db1\n",
        "\n",
        "     print(\"Epoch\", i, \"cost: \", cost)\n",
        "    \n",
        "  \n",
        "  # final evaluation for training data\n",
        "  Z1 = np.dot(W1, X_train) + b1\n",
        "  A1 = sigmoid(Z1)\n",
        "  Z2 = np.dot(W2, A1) + b2\n",
        "  A2 = softmax(Z2)\n",
        "\n",
        "  # final evaluation for test data\n",
        "  Z3 = np.dot(W1, X_test) + b1\n",
        "  A3 = sigmoid(Z3)\n",
        "  Z4 = np.dot(W2, A3) + b2\n",
        "  A4 = softmax(Z4)\n",
        "\n",
        "  \n",
        "  # converting the data to (samples, vector) format\n",
        "  A4  =  A4.T\n",
        "  A2  =  A2.T\n",
        "  Y_train = Y_train.T\n",
        "  Y_test  = Y_test.T\n",
        "  \n",
        "  # creating one hot encoding of the softmax ouptut\n",
        "  Y_train_prediction = np.zeros_like(Y_train)\n",
        "  Y_train_prediction[np.arange(len(A2)), A2.argmax(1)] = 1\n",
        "  \n",
        "  Y_test_prediction = np.zeros_like(Y_test)\n",
        "  Y_test_prediction[np.arange(len(A4)), A4.argmax(1)] = 1\n",
        "  \n",
        "  \n",
        "  # comparing accuracies\n",
        "  print(\"train accuracy : {} %\".format(100 - np.mean(np.abs(Y_train_prediction - Y_train)) * 100))\n",
        "  print(\"test accuracy  : {} %\".format(100 - np.mean(np.abs(Y_test_prediction - Y_test)) * 100))\n",
        "      \n",
        "\n",
        "  d = { \"costs\": cost,\n",
        "        \"Y_prediction_test\": A4, \n",
        "        \"Y_prediction_train\" : A2, \n",
        "      }\n",
        "  \n",
        "  return d;"
      ],
      "execution_count": 0,
      "outputs": []
    },
    {
      "metadata": {
        "id": "JHy0Xw1ZUCzQ",
        "colab_type": "code",
        "colab": {}
      },
      "cell_type": "code",
      "source": [
        "# Final Model - with no hidden layer - easy backprop\n",
        "def model_with_no_hidden_layer(X_train, Y_train, X_test, Y_test, epochs,learning_rate):\n",
        "  \n",
        " \n",
        "  \n",
        "  n_x = X_train.shape[0]\n",
        "  n_h = 64 # neurons in the  hidden  layer\n",
        "  n_y = Y_train.shape[0]\n",
        "  \n",
        " \n",
        "  #initialization of weights\n",
        "  W1 = np.random.randn(n_y, n_x) * 0.01\n",
        "  b1 = np.zeros(shape=(n_y, 1))\n",
        " \n",
        "  \n",
        "  \n",
        "  #training\n",
        "  for i in range(epochs):\n",
        "     \n",
        "     #splitting the training and test  set according to bacth sizes\n",
        "     for batch in mini_batches(X_train.T, Y_train.T, batch_size):\n",
        " \n",
        "        X, Y = batch\n",
        "  \n",
        "        X = X.T\n",
        "    \n",
        "        Y = Y.T\n",
        "  \n",
        "        m = X.shape[0]\n",
        "        \n",
        "        #forward propogation\n",
        "        Z1 = np.dot(W1, X) + b1\n",
        "        A1 = softmax(Z1);\n",
        "\n",
        "        cost = cross_entropy(Y, A1)\n",
        "        \n",
        "        #back propogation - gradient descent\n",
        "        dZ1 = A1-Y\n",
        "\n",
        "        dW1 = (1/m) * np.dot(dZ1, X.T)\n",
        "        db1 = (1/m) * np.sum(dZ1, axis=1, keepdims=True)\n",
        "\n",
        "        W1 = W1 - learning_rate * dW1\n",
        "        b1 = b1 - learning_rate * db1\n",
        "\n",
        "     print(\"Epoch\", i, \"cost: \", cost)\n",
        "    \n",
        "  \n",
        "  # final evaluation for training data\n",
        "  Z1 = np.dot(W1, X_train) + b1\n",
        "  A2 = softmax(Z1)\n",
        "\n",
        "  # final evaluation for test data\n",
        "  Z3 = np.dot(W1, X_test) + b1\n",
        "  A4 = softmax(Z3)\n",
        "\n",
        "  \n",
        "  # converting the data to (samples, vector) format\n",
        "  A4  =  A4.T\n",
        "  A2  =  A2.T\n",
        "  Y_train = Y_train.T\n",
        "  Y_test  = Y_test.T\n",
        "  \n",
        "  # creating one hot encoding of the softmax ouptut\n",
        "  Y_train_prediction = np.zeros_like(Y_train)\n",
        "  Y_train_prediction[np.arange(len(A2)), A2.argmax(1)] = 1\n",
        "  \n",
        "  Y_test_prediction = np.zeros_like(Y_test)\n",
        "  Y_test_prediction[np.arange(len(A4)), A4.argmax(1)] = 1\n",
        "  \n",
        "  \n",
        "  # comparing accuracies\n",
        "  print(\"train accuracy : {} %\".format(100 - np.mean(np.abs(Y_train_prediction - Y_train)) * 100))\n",
        "  print(\"test accuracy  : {} %\".format(100 - np.mean(np.abs(Y_test_prediction - Y_test)) * 100))\n",
        "      \n",
        "\n",
        "  d = { \"costs\": cost,\n",
        "        \"Y_prediction_test\": A4, \n",
        "        \"Y_prediction_train\" : A2, \n",
        "      }\n",
        "  \n",
        "  return d;"
      ],
      "execution_count": 0,
      "outputs": []
    },
    {
      "metadata": {
        "id": "evrObjIMqrAd",
        "colab_type": "code",
        "outputId": "cef7e3aa-7b0a-478e-9611-af46812d64cd",
        "colab": {
          "base_uri": "https://localhost:8080/",
          "height": 255
        }
      },
      "cell_type": "code",
      "source": [
        "classifier = model_with_hidden_layer(x_train, y_train, x_test, y_test, 12, 0.1)"
      ],
      "execution_count": 0,
      "outputs": [
        {
          "output_type": "stream",
          "text": [
            "Epoch 0 cost:  0.23019639155660201\n",
            "Epoch 1 cost:  0.22664210204209073\n",
            "Epoch 2 cost:  0.21022312116952477\n",
            "Epoch 3 cost:  0.17116987510963913\n",
            "Epoch 4 cost:  0.12994574033607967\n",
            "Epoch 5 cost:  0.10074231077307352\n",
            "Epoch 6 cost:  0.08053182996860711\n",
            "Epoch 7 cost:  0.06598196808650018\n",
            "Epoch 8 cost:  0.055397952845652056\n",
            "Epoch 9 cost:  0.04763771934760565\n",
            "Epoch 10 cost:  0.0418592630249051\n",
            "Epoch 11 cost:  0.037470041537769255\n",
            "train accuracy : 97.18633331358433 %\n",
            "test accuracy  : 97.27200008928776 %\n"
          ],
          "name": "stdout"
        }
      ]
    }
  ]
}